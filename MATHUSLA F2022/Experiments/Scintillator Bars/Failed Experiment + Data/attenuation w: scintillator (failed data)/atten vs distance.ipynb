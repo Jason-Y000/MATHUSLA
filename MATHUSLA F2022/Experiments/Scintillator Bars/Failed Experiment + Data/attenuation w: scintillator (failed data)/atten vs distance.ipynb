{
 "cells": [
  {
   "cell_type": "code",
   "execution_count": 1,
   "id": "f4da1a50",
   "metadata": {},
   "outputs": [],
   "source": [
    "import matplotlib.pyplot as plt\n",
    "import pandas as pd\n",
    "import numpy as np\n",
    "import math as math\n",
    "import scipy\n",
    "from scipy.stats import norm\n",
    "from scipy.signal import argrelextrema\n",
    "import os, glob"
   ]
  },
  {
   "cell_type": "code",
   "execution_count": 2,
   "id": "6318c2f0",
   "metadata": {},
   "outputs": [],
   "source": [
    "def get_maxes(folder):\n",
    "    num_traces = len([entry for entry in os.listdir(folder) if os.path.isfile(os.path.join(folder, entry))])\n",
    "    csv_files = glob.glob(os.path.join(folder, \"*.csv\"))\n",
    "    \n",
    "    \n",
    "    avg_maxes_ch1 = []\n",
    "    avg_maxes_ch4=[]\n",
    "    counter = 0\n",
    "    for f in csv_files:\n",
    "        \n",
    "        print(counter, f)\n",
    "        data = pd.read_csv(f)\n",
    "        ch1 = np.array(data['Maximum(1) (V)'])\n",
    "        ch4 = np.array(data['Maximum(4) (V)'])\n",
    "        \n",
    "\n",
    "        # delete the largest arguments from both datasets (to take care of messy data and outliers)\n",
    "        argument1 = np.where(ch1 > np.quantile(ch1, 0.95))\n",
    "        argument2 = np.where(ch1 < np.quantile(ch1,0.05))\n",
    "        argument3 = np.where(ch4 > np.quantile(ch4, 0.95))\n",
    "        argument4 = np.where(ch4 < np.quantile(ch4,0.05))\n",
    "\n",
    "    \n",
    "        # create array of indecies of the data points we want to delete\n",
    "        del_args = np.append(np.append(np.append(argument1, argument2), argument3), argument4)\n",
    "    \n",
    "        ch1 = np.delete(ch1, del_args)\n",
    "        ch4 = np.delete(ch4, del_args)\n",
    "        \n",
    "        num_pts = len(ch1)\n",
    "        \n",
    "        avg_maxes_ch1.append(sum(ch1) / num_pts * 10 ** 3)\n",
    "        avg_maxes_ch4.append(sum(ch4) / num_pts * 10 ** 3)\n",
    "        \n",
    "        counter = counter + 1\n",
    "        \n",
    "    \n",
    "    return avg_maxes_ch1, avg_maxes_ch4, csv_files"
   ]
  },
  {
   "cell_type": "code",
   "execution_count": 3,
   "id": "c05c282d",
   "metadata": {},
   "outputs": [
    {
     "name": "stdout",
     "output_type": "stream",
     "text": [
      "0 dataset 1 -- one fibre/ATTN_D1_TC1H.csv\n",
      "1 dataset 1 -- one fibre/ATTN_D1_TN2H.csv\n",
      "2 dataset 1 -- one fibre/ATTN_D3_TC2H.csv\n",
      "3 dataset 1 -- one fibre/ATTN_D2_TC2H.csv\n",
      "4 dataset 1 -- one fibre/ATTN_D2_TC1H.csv\n",
      "5 dataset 1 -- one fibre/ATTN_D3_TC1H.csv\n",
      "6 dataset 1 -- one fibre/ATTN_D1_TC2H.csv\n",
      "7 dataset 1 -- one fibre/ATTN_D2_TN2H.csv\n",
      "8 dataset 1 -- one fibre/ATTN_D3_TN2H.csv\n"
     ]
    }
   ],
   "source": [
    "ch1, ch4, filenames = get_maxes(\"dataset 1 -- one fibre\")"
   ]
  },
  {
   "cell_type": "code",
   "execution_count": 4,
   "id": "7c0c0363",
   "metadata": {},
   "outputs": [],
   "source": [
    "TC1H_ch1 = [ch1[0], ch1[4], ch1[5]]\n",
    "TC1H_ch4 = [ch4[0], ch4[4], ch4[5]]\n",
    "\n",
    "TN2H_ch1 = [ch1[1], ch1[7], ch1[8]]\n",
    "TN2H_ch4 = [ch4[1], ch4[7], ch4[8]]\n",
    "\n",
    "TC2H_ch1 = [ch1[6], ch1[4], ch1[3]]\n",
    "TC2H_ch4 = [ch1[6], ch1[4], ch1[3]]"
   ]
  },
  {
   "cell_type": "code",
   "execution_count": 12,
   "id": "556ae1fc",
   "metadata": {},
   "outputs": [
    {
     "data": {
      "text/plain": [
       "[8.900038992042443, 6.595325785340305, 4.435035742444156]"
      ]
     },
     "execution_count": 12,
     "metadata": {},
     "output_type": "execute_result"
    }
   ],
   "source": [
    "TC1H_ch4"
   ]
  },
  {
   "cell_type": "code",
   "execution_count": 19,
   "id": "3378f45e",
   "metadata": {},
   "outputs": [
    {
     "data": {
      "image/png": "[encoded data removed]",
      "text/plain": [
       "<Figure size 576x432 with 1 Axes>"
      ]
     },
     "metadata": {
      "needs_background": "light"
     },
     "output_type": "display_data"
    }
   ],
   "source": [
    "fig, ax = plt.subplots(figsize=(8,6))\n",
    "ax.set_facecolor('snow')\n",
    "\n",
    "TC1H = plt.scatter([61, 34, 7],TC1H_ch1,color='mediumblue', marker='x');\n",
    "#plt.scatter([1,2,3],TC1H_ch4,color='cornflowerblue', marker='x');\n",
    "\n",
    "\n",
    "TN2H = plt.scatter([61, 37,12],TN2H_ch1,color='green', marker='*');\n",
    "#plt.scatter([1,2,3],TN2H_ch4,color='pink', marker='*');\n",
    "\n",
    "TC2H = plt.scatter([61, 34, 7],TC2H_ch1,color='red', marker='.');\n",
    "#plt.scatter([1,2,3],TC2H_ch4,color='orange', marker='.');\n",
    "\n",
    "plt.legend((TC1H, TN2H, TC2H), (\"Thick, 1 Hole\", \"Thin\", \"Thick\"), fontsize=12, frameon=True, loc='lower left')\n",
    "\n",
    "\n",
    "plt.ylabel(\"mV\")\n",
    "plt.xlabel(\"Distance from Pulse to Channel 1\")\n",
    "\n",
    "plt.show()"
   ]
  },
  {
   "cell_type": "code",
   "execution_count": 17,
   "id": "7165dff4",
   "metadata": {},
   "outputs": [
    {
     "data": {
      "image/png": "[encoded data removed]",
      "text/plain": [
       "<Figure size 576x432 with 1 Axes>"
      ]
     },
     "metadata": {
      "needs_background": "light"
     },
     "output_type": "display_data"
    }
   ],
   "source": [
    "fig, ax = plt.subplots(figsize=(8,6))\n",
    "ax.set_facecolor('snow')\n",
    "\n",
    "#TC1H = plt.scatter([61, 34, 7],TC1H_ch1,color='mediumblue', marker='x');\n",
    "TC1H = plt.scatter([61, 34, 7],TC1H_ch4,color='cornflowerblue', marker='x');\n",
    "\n",
    "\n",
    "#TN2H = plt.scatter([61, 37,12],TN2H_ch1,color='orchid', marker='*');\n",
    "#TN2H = plt.scatter([61, 37,12],TN2H_ch4,color='green', marker='*');\n",
    "\n",
    "#TC2H = plt.scatter([61, 34, 7],TC2H_ch1,color='darkorange', marker='.');\n",
    "#TC2H = plt.scatter([61, 34, 7],TC2H_ch4,color='red', marker='.');\n",
    "\n",
    "#plt.legend((TC1H, TN2H, TC2H), (\"Thick, 1 Hole\", \"Thin\", \"Thick\"), fontsize=12, frameon=True, loc='upper left')\n",
    "\n",
    "plt.ylabel(\"mV\")\n",
    "plt.xlabel(\"Distance from Pulse to Channel 1\")\n",
    "\n",
    "plt.show()"
   ]
  },
  {
   "cell_type": "code",
   "execution_count": 20,
   "id": "b0ccbeeb",
   "metadata": {},
   "outputs": [
    {
     "name": "stdout",
     "output_type": "stream",
     "text": [
      "0 dataset 2 -- two fibre/ATTN_DD1_TC1H.csv\n",
      "1 dataset 2 -- two fibre/ATTN_DD2_TC2H.csv\n",
      "2 dataset 2 -- two fibre/ATTN_DD3_TC2H.csv\n",
      "3 dataset 2 -- two fibre/ATTN_DD1_TN2H.csv\n",
      "4 dataset 2 -- two fibre/ATTN_DD3_TC1H.csv\n",
      "5 dataset 2 -- two fibre/ATTN_DD2_TC1H.csv\n",
      "6 dataset 2 -- two fibre/ATTN_DD3_TN2H.csv\n",
      "7 dataset 2 -- two fibre/ATTN_DD2_TN2H.csv\n",
      "8 dataset 2 -- two fibre/ATTN_DD1_TC2H.csv\n"
     ]
    }
   ],
   "source": [
    "ch1_2, ch4_2, filenames_2 = get_maxes(\"dataset 2 -- two fibre\")"
   ]
  },
  {
   "cell_type": "code",
   "execution_count": 28,
   "id": "b9cf2fc4",
   "metadata": {},
   "outputs": [],
   "source": [
    "TC1H_ch1_2 = [ch1_2[0], ch1_2[5], ch1_2[4]]\n",
    "TC1H_ch4_2 = [ch4_2[0], ch4_2[5], ch4_2[4]]\n",
    "\n",
    "TN2H_ch1_2 = [ch1_2[3], ch1_2[7], ch1_2[6]]\n",
    "TN2H_ch4_2 = [ch4_2[3], ch4_2[7], ch4_2[6]]\n",
    "\n",
    "TC2H_ch1_2 = [ch1_2[8], ch1_2[1], ch1_2[2]]\n",
    "TC2H_ch4_2 = [ch4_2[8], ch4_2[1], ch4_2[2]]"
   ]
  },
  {
   "cell_type": "code",
   "execution_count": 29,
   "id": "178c36ee",
   "metadata": {},
   "outputs": [
    {
     "data": {
      "image/png": "[encoded data removed]",
      "text/plain": [
       "<Figure size 576x432 with 1 Axes>"
      ]
     },
     "metadata": {
      "needs_background": "light"
     },
     "output_type": "display_data"
    }
   ],
   "source": [
    "fig, ax = plt.subplots(figsize=(8,6))\n",
    "ax.set_facecolor('snow')\n",
    "\n",
    "TC1H = plt.scatter([61, 34, 7],TC1H_ch1_2,color='mediumblue', marker='x');\n",
    "#plt.scatter([1,2,3],TC1H_ch4,color='cornflowerblue', marker='x');\n",
    "\n",
    "\n",
    "TN2H = plt.scatter([61, 37,12],TN2H_ch1_2,color='green', marker='*');\n",
    "#plt.scatter([1,2,3],TN2H_ch4,color='pink', marker='*');\n",
    "\n",
    "TC2H = plt.scatter([61, 34, 7],TC2H_ch1_2,color='red', marker='.');\n",
    "#plt.scatter([1,2,3],TC2H_ch4,color='orange', marker='.');\n",
    "\n",
    "plt.legend((TC1H, TN2H, TC2H), (\"Thick, 1 Hole\", \"Thin\", \"Thick\"), fontsize=12, frameon=True, loc='lower left')\n",
    "\n",
    "\n",
    "plt.ylabel(\"mV\")\n",
    "plt.xlabel(\"Distance from Pulse to Channel 1\")\n",
    "\n",
    "plt.show()"
   ]
  },
  {
   "cell_type": "code",
   "execution_count": 30,
   "id": "ec98da1a",
   "metadata": {},
   "outputs": [
    {
     "data": {
      "image/png": "[encoded data removed]",
      "text/plain": [
       "<Figure size 576x432 with 1 Axes>"
      ]
     },
     "metadata": {
      "needs_background": "light"
     },
     "output_type": "display_data"
    }
   ],
   "source": [
    "fig, ax = plt.subplots(figsize=(8,6))\n",
    "ax.set_facecolor('snow')\n",
    "\n",
    "TC1H = plt.scatter([61, 34, 7],TC1H_ch4_2,color='mediumblue', marker='x');\n",
    "#plt.scatter([1,2,3],TC1H_ch4,color='cornflowerblue', marker='x');\n",
    "\n",
    "\n",
    "TN2H = plt.scatter([61, 37,12],TN2H_ch4_2,color='green', marker='*');\n",
    "#plt.scatter([1,2,3],TN2H_ch4,color='pink', marker='*');\n",
    "\n",
    "TC2H = plt.scatter([61, 34, 7],TC2H_ch4_2,color='red', marker='.');\n",
    "#plt.scatter([1,2,3],TC2H_ch4,color='orange', marker='.');\n",
    "\n",
    "plt.legend((TC1H, TN2H, TC2H), (\"Thick, 1 Hole\", \"Thin\", \"Thick\"), fontsize=12, frameon=True, loc='lower right')\n",
    "\n",
    "\n",
    "plt.ylabel(\"mV\")\n",
    "plt.xlabel(\"Distance from Pulse to Channel 1\")\n",
    "\n",
    "plt.show()"
   ]
  },
  {
   "cell_type": "code",
   "execution_count": null,
   "id": "d54cda4a",
   "metadata": {},
   "outputs": [],
   "source": []
  }
 ],
 "metadata": {
  "kernelspec": {
   "display_name": "Python 3",
   "language": "python",
   "name": "python3"
  },
  "language_info": {
   "codemirror_mode": {
    "name": "ipython",
    "version": 3
   },
   "file_extension": ".py",
   "mimetype": "text/x-python",
   "name": "python",
   "nbconvert_exporter": "python",
   "pygments_lexer": "ipython3",
   "version": "3.8.8"
  }
 },
 "nbformat": 4,
 "nbformat_minor": 5
}
