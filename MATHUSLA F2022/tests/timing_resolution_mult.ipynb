{
 "cells": [
  {
   "cell_type": "code",
   "execution_count": 2,
   "metadata": {},
   "outputs": [],
   "source": [
    "import pandas as pd\n",
    "import matplotlib.pyplot as plt\n",
    "import numpy as np\n",
    "import math as math\n",
    "import scipy\n",
    "from scipy.stats import norm"
   ]
  },
  {
   "cell_type": "code",
   "execution_count": 3,
   "metadata": {},
   "outputs": [],
   "source": [
    "def histogramCalc(data, small_length, length): \n",
    "    data.columns\n",
    "    a = np.array(data['X at Max Y(1)'])\n",
    "    b = np.array(data['X at Max Y(4)'])\n",
    "\n",
    "    argument = np.where(a == max(a))\n",
    "    c = np.delete(a, argument)\n",
    "    argument = np.where(b == max(b))\n",
    "    d = np.delete(b, argument)\n",
    "\n",
    "    e = []\n",
    "    for i in range(len(c)):\n",
    "        e.append(c[i] - d[i])\n",
    "\n",
    "    e = np.array(e)\n",
    "\n",
    "    plt.xlabel(\"DELAY. SGB-BCF92. \" + str(small_length) + \"mm\")\n",
    "    plt.ylabel(\"Frequency\")\n",
    "    x = np.random.gamma(4, 0.5, 1000)\n",
    "    plt.axvline(e.mean(),color='k', linestyle='dashed', linewidth=1)\n",
    "    mu, std = norm.fit(e)\n",
    "    plt.hist(e, bins = 'auto', density=True, alpha=0.6, color='b')\n",
    "\n",
    "    xmin, xmax = plt.xlim()\n",
    "    x = np.linspace(xmin, xmax, 100)\n",
    "    p = norm.pdf(x, mu, std)\n",
    "  \n",
    "    plt.plot(x, p, 'k', linewidth=2)\n",
    "    title = \"Fit Values: {:.2f} and {:.2f}\".format(mu, std)\n",
    "\n",
    "    plt.show()\n",
    "\n",
    "    mean_rounded = \"{:.3f}\".format((np.mean(e)) * 10 ** 9)\n",
    "    sr_rounded = \"{:.3f}\".format((np.std(e)) * 10 ** 9)\n",
    "    median_rounded = \"{:.3f}\".format((np.median(e)) * 10 ** 9)\n",
    "    \n",
    "    mean = \"Mean: \" + str(mean_rounded) + \" ns\"\n",
    "    SD = \"Standard Deviation: \" + str(sr_rounded) + \" ns\"\n",
    "    median = \"Median: \" + str(median_rounded) + \" ns\"\n",
    "    \n",
    "    print(mean)\n",
    "    print(SD)\n",
    "    print(median)"
   ]
  },
  {
   "cell_type": "code",
   "execution_count": 4,
   "metadata": {},
   "outputs": [],
   "source": [
    "def get_all_values(data):\n",
    "    delay = np.array(data['X at Max Y(1)'])\n",
    "    L = []\n",
    "    for val in delay:\n",
    "        if val not in L:\n",
    "            L.append(val)\n",
    "    \n",
    "    L.sort()\n",
    "\n",
    "    return L"
   ]
  },
  {
   "cell_type": "code",
   "execution_count": 5,
   "metadata": {},
   "outputs": [],
   "source": [
    "def histogram_justCalc(str1, str2, small_lengths, length):\n",
    "    dic = {}\n",
    "    i = 2\n",
    "    for small_length in small_lengths:\n",
    "        data_name = str1 + str(i) + str2\n",
    "        # print(data_name)\n",
    "        data = pd.read_csv(data_name, low_memory=False)\n",
    "        data.columns\n",
    "        a = np.array(data['X at Max Y(1)'])\n",
    "        b = np.array(data['X at Max Y(4)'])\n",
    "\n",
    "        argument = np.where(a == max(a))\n",
    "        c = np.delete(a, argument)\n",
    "        argument = np.where(b == max(b))\n",
    "        d = np.delete(b, argument)\n",
    "\n",
    "        e = []\n",
    "        j = 0\n",
    "        for j in range(len(c) - 1):\n",
    "            e.append(c[j] - d[j])\n",
    "\n",
    "        e = np.array(e)\n",
    "\n",
    "\n",
    "        mean = \"{:.3f}\".format((np.mean(e)) * (10**9))\n",
    "        SD = \"{:.3f}\".format((np.std(e)) * (10**9))\n",
    "        median = \"{:.3f}\".format((np.median(e)) * (10**9))\n",
    "        \n",
    "        \n",
    "        \n",
    "        distance = length - 2*(small_length)\n",
    "        \n",
    "        spofl = 299792458\n",
    "        # velocity = ((distance/1000) / ((np.mean(a)) - offset))\n",
    "        velocity = ((distance/1000) / ((np.mean(e))))\n",
    "        percentage = abs((velocity / spofl) * 100)\n",
    "\n",
    "        dic[small_length] = [mean, SD, median, percentage]\n",
    "        i += 1\n",
    "    return dic"
   ]
  },
  {
   "cell_type": "code",
   "execution_count": 6,
   "metadata": {},
   "outputs": [],
   "source": [
    "def offset(d, midvalue, distance):\n",
    "    for k in d.keys():\n",
    "        # print(d[k])\n",
    "        d[k][0] = float(d[k][0]) - d[midvalue][0]\n",
    "        if (d[k][0] != 0):\n",
    "            d[k][3] = abs((((distance - 2*k) / d[k][0]) / 299792458)*10000000000)\n",
    "\n",
    "    return d"
   ]
  },
  {
   "cell_type": "code",
   "execution_count": 7,
   "metadata": {},
   "outputs": [],
   "source": [
    "def makefloat(d):\n",
    "    for k in d.keys():\n",
    "        for i in range(len(d[k]) - 1):\n",
    "            d[k][i] = float(d[k][i])\n",
    "\n",
    "    return d"
   ]
  },
  {
   "cell_type": "code",
   "execution_count": 8,
   "metadata": {},
   "outputs": [],
   "source": [
    "def plot_delay_ov_distance(d, distance):\n",
    "    x1 = []\n",
    "    y1 = []\n",
    "\n",
    "    for k in d.keys():\n",
    "        x1.append(k)\n",
    "        y1.append(d[k][0])\n",
    "        # print(d[k][3])\n",
    "\n",
    "    coef_1 = np.polyfit(x1,y1,1)\n",
    "    print(coef_1)\n",
    "    poly1d_fn_1 = np.poly1d(coef_1) \n",
    "\n",
    "    midval = poly1d_fn_1(1500)\n",
    "\n",
    "    print(midval)\n",
    "    \n",
    "    for k in d.keys():\n",
    "        # print(d[k])\n",
    "        d[k][0] = float(d[k][0]) - midval\n",
    "        if (d[k][0] != 0):\n",
    "            d[k][3] = abs((((distance - 2*k) / d[k][0]) / 299792458)*10000000000)\n",
    "\n",
    "    \n",
    "\n",
    "    # d = offset(d)\n",
    "\n",
    "    x2 = []\n",
    "    y2 = []\n",
    "\n",
    "    for k in d.keys():\n",
    "        x2.append(k)\n",
    "        y2.append(d[k][0])\n",
    "        # print(d[k][3])\n",
    "\n",
    "    coef_2 = np.polyfit(x2,y2,1)\n",
    "    print(coef_2)\n",
    "    poly1d_fn_2 = np.poly1d(coef_2) \n",
    "    # poly1d_fn is now a function which takes in x and returns an estimate for y\n",
    "\n",
    "    plt.plot(x1, y1, 'bo', x2, y2, 'ro', x1, poly1d_fn_1(x1), '--y', x2, poly1d_fn_2(x2), '--k') #'--k'=black dashed line, 'yo' = yellow circle marker\n",
    "    plt.xlabel(\"Distance from LED Pulse (mm)\")\n",
    "    plt.ylabel(\"Delay between SiPM activations, ns\")\n",
    "    plt.legend([\"Original Data\", \"Adjusted Data\"])\n",
    "    plt.show()"
   ]
  },
  {
   "cell_type": "code",
   "execution_count": 9,
   "metadata": {},
   "outputs": [],
   "source": [
    "def plot_sd_ov_distance(d):\n",
    "    x1 = []\n",
    "    y1 = []\n",
    "\n",
    "    for k in d.keys():\n",
    "        x1.append(k)\n",
    "        y1.append(d[k][1])\n",
    "        # print(d[k][3])\n",
    "\n",
    "    coef_1 = np.polyfit(x1,y1,1)\n",
    "    # print(coef_1)\n",
    "    poly1d_fn_1 = np.poly1d(coef_1)\n",
    "    # poly1d_fn is now a function which takes in x and returns an estimate for y\n",
    "\n",
    "\n",
    "    plt.plot(x1, y1, 'bo')\n",
    "    # plt.plot(x1, y1, 'bo', x1, poly1d_fn_1(x1), '--y') #'--k'=black dashed line, 'yo' = yellow circle marker\n",
    "    plt.xlabel(\"Distance from LED Pulse (mm)\")\n",
    "    plt.ylabel(\"Standard Deviation of the Delay values, ns\")\n",
    "    plt.show()"
   ]
  },
  {
   "cell_type": "code",
   "execution_count": 10,
   "metadata": {},
   "outputs": [],
   "source": [
    "def avg_SD(data):\n",
    "    total = 0\n",
    "    for key in data.keys():\n",
    "        total += data[key][1]\n",
    "\n",
    "    return total / len(data.keys())\n",
    "    "
   ]
  },
  {
   "cell_type": "code",
   "execution_count": 11,
   "metadata": {},
   "outputs": [
    {
     "name": "stdout",
     "output_type": "stream",
     "text": [
      "{286: ['-13.121', '0.721', '-13.120', 61.72529852782471], 838: ['-7.443', '0.778', '-7.450', 59.338709490359086], 1127: ['-4.220', '0.766', '-4.200', 58.97167631853449], 1422: ['-0.977', '0.967', '-1.070', 53.242048933508954], 1715: ['2.006', '0.822', '2.000', 71.51735604524167], 2000: ['5.164', '0.841', '5.130', 64.59926899980054], 2286: ['8.380', '0.858', '8.330', 62.57623542110999], 2581: ['12.213', '0.933', '12.180', 59.04960398165072]}\n",
      "[ 1.09506402e-02 -1.65247619e+01]\n",
      "-0.09880165521786566\n",
      "[ 1.09506402e-02 -1.64259602e+01]\n"
     ]
    },
    {
     "data": {
      "image/png": "[encoded data removed]",
      "text/plain": [
       "<Figure size 432x288 with 1 Axes>"
      ]
     },
     "metadata": {
      "needs_background": "light"
     },
     "output_type": "display_data"
    },
    {
     "data": {
      "image/png": "[encoded data removed]",
      "text/plain": [
       "<Figure size 432x288 with 1 Axes>"
      ]
     },
     "metadata": {
      "needs_background": "light"
     },
     "output_type": "display_data"
    },
    {
     "data": {
      "text/plain": [
       "0.83575"
      ]
     },
     "execution_count": 11,
     "metadata": {},
     "output_type": "execute_result"
    }
   ],
   "source": [
    "d_old = histogram_justCalc('XaM_DEL_SGB-BCF-2-0_R', '.csv', [286, 838, 1127, 1422, 1715, 2000, 2286, 2581], 3000)\n",
    "\n",
    "print(d_old)\n",
    "\n",
    "d_old = makefloat(d_old)\n",
    "\n",
    "plot_delay_ov_distance(d_old, 3000)\n",
    "\n",
    "plot_sd_ov_distance(d_old)\n",
    "\n",
    "avg_SD(d_old)"
   ]
  }
 ],
 "metadata": {
  "kernelspec": {
   "display_name": "Python 3",
   "language": "python",
   "name": "python3"
  },
  "language_info": {
   "codemirror_mode": {
    "name": "ipython",
    "version": 3
   },
   "file_extension": ".py",
   "mimetype": "text/x-python",
   "name": "python",
   "nbconvert_exporter": "python",
   "pygments_lexer": "ipython3",
   "version": "3.8.8"
  },
  "vscode": {
   "interpreter": {
    "hash": "91c1d2470ab80b393afef1a9308e4146ea19685bf186cfe44fe3659b7d9e4fc0"
   }
  }
 },
 "nbformat": 4,
 "nbformat_minor": 2
}
